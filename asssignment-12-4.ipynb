{
 "cells": [
  {
   "attachments": {},
   "cell_type": "markdown",
   "metadata": {},
   "source": [
    "# 1. 1d Array"
   ]
  },
  {
   "cell_type": "code",
   "execution_count": 9,
   "metadata": {},
   "outputs": [],
   "source": [
    "import numpy as np\n",
    "# Create a 1-dimensional NumPy array with elements [1, 2, 3, 4, 5, 6, 7, 8, 9, 10].\n",
    "a = np.array([1,2,3,4,5,6,7,8,9,10])\n",
    "print(a)"
   ]
  },
  {
   "cell_type": "code",
   "execution_count": 8,
   "metadata": {},
   "outputs": [
    {
     "name": "stdout",
     "output_type": "stream",
     "text": [
      "Sum is 55\n",
      "Average is 5.5\n"
     ]
    }
   ],
   "source": [
    "# Calculate the sum and average of the array elements.\n",
    "sum_array = sum(a)\n",
    "print(f\"Sum is {sum_array}\")\n",
    "avg_array = sum_array/len(a)\n",
    "print(f\"Average is {avg_array}\")\n"
   ]
  },
  {
   "cell_type": "code",
   "execution_count": 6,
   "metadata": {},
   "outputs": [
    {
     "name": "stdout",
     "output_type": "stream",
     "text": [
      "5.5\n"
     ]
    }
   ],
   "source": [
    "avg_array = sum_array/len(a)\n",
    "print(avg_array)"
   ]
  },
  {
   "cell_type": "code",
   "execution_count": 13,
   "metadata": {},
   "outputs": [
    {
     "name": "stdout",
     "output_type": "stream",
     "text": [
      "[3 4 5 6 7 8]\n"
     ]
    }
   ],
   "source": [
    "# Slice the array to select elements from the 3rd to the 7th position.\n",
    "sliced_array = a[2:8]\n",
    "print(sliced_array)"
   ]
  },
  {
   "cell_type": "code",
   "execution_count": 18,
   "metadata": {},
   "outputs": [
    {
     "name": "stdout",
     "output_type": "stream",
     "text": [
      "33\n",
      "5.5\n"
     ]
    }
   ],
   "source": [
    "# Compute the sum and average of the sliced array\n",
    "sliced_sum = sum(sliced_array)\n",
    "print(sliced_sum)\n",
    "sliced_avg = sliced_sum/(len(sliced_array))\n",
    "print(sliced_avg)"
   ]
  },
  {
   "attachments": {},
   "cell_type": "markdown",
   "metadata": {},
   "source": [
    "# 2. Multi-dimensional array"
   ]
  },
  {
   "cell_type": "code",
   "execution_count": 19,
   "metadata": {},
   "outputs": [
    {
     "name": "stdout",
     "output_type": "stream",
     "text": [
      "[[3 4 5]\n",
      " [6 7 8]\n",
      " [9 1 2]]\n"
     ]
    }
   ],
   "source": [
    "# Create a 3x3 matrix with the following rows in order: {3,4,5} {6,7,8} {9,1,2}\n",
    "matrix_33 = np.array([[3,4,5],[6,7,8],[9,1,2]])\n",
    "print(matrix_33)"
   ]
  },
  {
   "cell_type": "code",
   "execution_count": 27,
   "metadata": {},
   "outputs": [
    {
     "name": "stdout",
     "output_type": "stream",
     "text": [
      "8\n"
     ]
    }
   ],
   "source": [
    "# Print the element in the second row, third column.\n",
    "element = matrix_33[1, 2]\n",
    "print(element)"
   ]
  },
  {
   "cell_type": "code",
   "execution_count": 29,
   "metadata": {},
   "outputs": [
    {
     "name": "stdout",
     "output_type": "stream",
     "text": [
      "[6 7 8]\n"
     ]
    }
   ],
   "source": [
    "# Print the second row\n",
    "row2 = matrix_33[1,:]\n",
    "print(row2)"
   ]
  },
  {
   "cell_type": "code",
   "execution_count": 31,
   "metadata": {},
   "outputs": [
    {
     "name": "stdout",
     "output_type": "stream",
     "text": [
      "[4 7 1]\n"
     ]
    }
   ],
   "source": [
    "# Print the second column\n",
    "col2 = matrix_33[:,1]\n",
    "print(col2)"
   ]
  },
  {
   "cell_type": "code",
   "execution_count": 32,
   "metadata": {},
   "outputs": [
    {
     "name": "stdout",
     "output_type": "stream",
     "text": [
      "[[3 6 9]\n",
      " [4 7 1]\n",
      " [5 8 2]]\n"
     ]
    }
   ],
   "source": [
    "# Compute the transpose of the matrix\n",
    "trans_matrix = np.transpose(matrix_33)\n",
    "print(trans_matrix)"
   ]
  },
  {
   "attachments": {},
   "cell_type": "markdown",
   "metadata": {},
   "source": [
    "# 3. Concatenation"
   ]
  },
  {
   "cell_type": "code",
   "execution_count": 33,
   "metadata": {},
   "outputs": [
    {
     "name": "stdout",
     "output_type": "stream",
     "text": [
      "Array 1: [5 1 4 2]\n",
      "Array 2: [ 6 10 11  7]\n"
     ]
    }
   ],
   "source": [
    "# Create two 1-d arrays: [5,1,4,2] and [6,10,11,7]\n",
    "array1 = np.array([5, 1, 4, 2])\n",
    "array2 = np.array([6, 10, 11, 7])\n",
    "\n",
    "print(\"Array 1:\", array1)\n",
    "print(\"Array 2:\", array2)"
   ]
  },
  {
   "cell_type": "code",
   "execution_count": 34,
   "metadata": {},
   "outputs": [
    {
     "name": "stdout",
     "output_type": "stream",
     "text": [
      "Concatenated Array: [ 5  1  4  2  6 10 11  7]\n"
     ]
    }
   ],
   "source": [
    "# Concatenate the two arrays\n",
    "concat_array = np.concatenate((array1, array2))\n",
    "\n",
    "print(\"Concatenated Array:\", concat_array)"
   ]
  },
  {
   "cell_type": "code",
   "execution_count": 35,
   "metadata": {},
   "outputs": [
    {
     "name": "stdout",
     "output_type": "stream",
     "text": [
      "Sorted Array: [ 1  2  4  5  6  7 10 11]\n"
     ]
    }
   ],
   "source": [
    "# Sort the new array from lowest to highest\n",
    "sorted_array = np.sort(concat_array)\n",
    "print(\"Sorted Array:\", sorted_array)"
   ]
  },
  {
   "cell_type": "code",
   "execution_count": 36,
   "metadata": {},
   "outputs": [
    {
     "name": "stdout",
     "output_type": "stream",
     "text": [
      "Split Arrays: [array([1, 2, 4, 5]), array([ 6,  7, 10, 11])]\n"
     ]
    }
   ],
   "source": [
    "# Split the result from the previous step into two equal sized arrays\n",
    "split_arrays = np.split(sorted_array, 2)\n",
    "print(\"Split Arrays:\", split_arrays)"
   ]
  },
  {
   "attachments": {},
   "cell_type": "markdown",
   "metadata": {},
   "source": [
    "# 4. Mathematical functions"
   ]
  },
  {
   "cell_type": "code",
   "execution_count": 47,
   "metadata": {},
   "outputs": [
    {
     "name": "stdout",
     "output_type": "stream",
     "text": [
      "[ 0.    1.57  3.14  4.71  6.28  7.85  9.42 10.99 12.56]\n"
     ]
    }
   ],
   "source": [
    "# Create an array with values from 0 to 4*pi in increments of pi/2 (pi refers to the mathematical constant  π)\n",
    "pi = 3.14\n",
    "piarray = np.arange(0, (pi*4 + pi/2), pi/2)\n",
    "print(piarray)"
   ]
  },
  {
   "cell_type": "code",
   "execution_count": 51,
   "metadata": {},
   "outputs": [
    {
     "name": "stdout",
     "output_type": "stream",
     "text": [
      "[ 0.          1.57079633  3.14159265  4.71238898  6.28318531  7.85398163\n",
      "  9.42477796 10.99557429 12.56637061]\n"
     ]
    }
   ],
   "source": [
    "\n",
    "piarray = np.arange(0, (np.pi*4 + np.pi/2), np.pi/2)\n",
    "print(piarray)"
   ]
  },
  {
   "cell_type": "code",
   "execution_count": 52,
   "metadata": {},
   "outputs": [
    {
     "name": "stdout",
     "output_type": "stream",
     "text": [
      "Sin Array: [ 0.0000000e+00  1.0000000e+00  1.2246468e-16 -1.0000000e+00\n",
      " -2.4492936e-16  1.0000000e+00  3.6739404e-16 -1.0000000e+00\n",
      " -4.8985872e-16]\n"
     ]
    }
   ],
   "source": [
    "# Compute an array that applies the mathematical sin function to the original array\n",
    "sin_arr = np.sin(piarray)\n",
    "print(\"Sin Array:\", sin_arr)"
   ]
  },
  {
   "cell_type": "code",
   "execution_count": 53,
   "metadata": {},
   "outputs": [
    {
     "name": "stdout",
     "output_type": "stream",
     "text": [
      "Cos Array: [ 1.0000000e+00  6.1232340e-17 -1.0000000e+00 -1.8369702e-16\n",
      "  1.0000000e+00  3.0616170e-16 -1.0000000e+00 -4.2862638e-16\n",
      "  1.0000000e+00]\n",
      "Log Array: [      -inf 0.45158271 1.14472989 1.55019499 1.83787707 2.06102062\n",
      " 2.24334217 2.39749285 2.53102425]\n",
      "Exp Array: [1.00000000e+00 4.81047738e+00 2.31406926e+01 1.11317778e+02\n",
      " 5.35491656e+02 2.57597050e+03 1.23916478e+04 5.96097415e+04\n",
      " 2.86751313e+05]\n"
     ]
    },
    {
     "name": "stderr",
     "output_type": "stream",
     "text": [
      "/var/folders/80/wdc67jbn5t595hmj0r1v6jhw0000gn/T/ipykernel_21921/14452726.py:4: RuntimeWarning: divide by zero encountered in log\n",
      "  log_arr = np.log(piarray)\n"
     ]
    }
   ],
   "source": [
    "# Do the same for the following mathematical functions: cos, log, exp\n",
    "cos_arr = np.cos(piarray)\n",
    "print(\"Cos Array:\", cos_arr)\n",
    "log_arr = np.log(piarray)\n",
    "print(\"Log Array:\", log_arr)\n",
    "exp_arr = np.exp(piarray)\n",
    "print(\"Exp Array:\", exp_arr)"
   ]
  },
  {
   "cell_type": "code",
   "execution_count": 54,
   "metadata": {},
   "outputs": [
    {
     "name": "stdout",
     "output_type": "stream",
     "text": [
      "Mean of pi array 6.283185307179587\n",
      "Median of pi array 6.283185307179586\n",
      "Satndard Deviation of pi array 4.055778675973612\n",
      "Mean of Sin array -2.975712385932333e-17\n",
      "Median of Sin array 0.0\n",
      "Satndard Deviation of Sin array 0.6666666666666666\n",
      "Mean of Cos array 0.11111111111111106\n",
      "Median of Cos array 6.123233995736766e-17\n",
      "Satndard Deviation of Cos array 0.7370277311900889\n",
      "Mean of Logarithm array -inf\n",
      "Median of Logarithm array 1.8378770664093453\n",
      "Satndard Deviation of Logarithm array nan\n",
      "Mean of Exponential array 40222.7148375631\n",
      "Median of Exponential array 535.4916555247646\n",
      "Satndard Deviation of Exponential array 89056.36419225672\n"
     ]
    },
    {
     "name": "stderr",
     "output_type": "stream",
     "text": [
      "/Library/Frameworks/Python.framework/Versions/3.12/lib/python3.12/site-packages/numpy/core/_methods.py:173: RuntimeWarning: invalid value encountered in subtract\n",
      "  x = asanyarray(arr - arrmean)\n"
     ]
    }
   ],
   "source": [
    "# Compute the mean, median, and standard deviation of each resultant array\n",
    "def mean(array):\n",
    "    mean_value = np.mean(array)\n",
    "    return mean_value\n",
    "def median(array):\n",
    "    median_value = np.median(array)\n",
    "    return median_value\n",
    "def std_dev(array):\n",
    "    std_dev_value = np.std(array)\n",
    "    return std_dev_value\n",
    "\n",
    "print(\"Mean of pi array\", mean(piarray))\n",
    "print(\"Median of pi array\", median(piarray))\n",
    "print(\"Satndard Deviation of pi array\", std_dev(piarray))\n",
    "print(\"Mean of Sin array\", mean(sin_arr))\n",
    "print(\"Median of Sin array\", median(sin_arr))\n",
    "print(\"Satndard Deviation of Sin array\", std_dev(sin_arr))\n",
    "print(\"Mean of Cos array\", mean(cos_arr))\n",
    "print(\"Median of Cos array\", median(cos_arr))\n",
    "print(\"Satndard Deviation of Cos array\", std_dev(cos_arr))\n",
    "print(\"Mean of Logarithm array\", mean(log_arr))\n",
    "print(\"Median of Logarithm array\", median(log_arr))\n",
    "print(\"Satndard Deviation of Logarithm array\", std_dev(log_arr))\n",
    "print(\"Mean of Exponential array\", mean(exp_arr))\n",
    "print(\"Median of Exponential array\", median(exp_arr))\n",
    "print(\"Satndard Deviation of Exponential array\", std_dev(exp_arr))"
   ]
  },
  {
   "attachments": {},
   "cell_type": "markdown",
   "metadata": {},
   "source": [
    "# 5. Boolean Indexing and Filtering"
   ]
  },
  {
   "cell_type": "code",
   "execution_count": 60,
   "metadata": {},
   "outputs": [
    {
     "name": "stdout",
     "output_type": "stream",
     "text": [
      "[12 15 20 25 30 35 40 45 50 55 60 65 70 75 80]\n"
     ]
    }
   ],
   "source": [
    "# Create a 1-d array with all multiples of 5 from 15 to 80, and also include 12\n",
    "multi_array = np.arange(15, 81, 5)\n",
    "new_multi_array =np.sort(np.append(multi_array, 12))\n",
    "print(new_multi_array)"
   ]
  },
  {
   "cell_type": "code",
   "execution_count": 61,
   "metadata": {},
   "outputs": [
    {
     "name": "stdout",
     "output_type": "stream",
     "text": [
      "[False False False False  True  True  True  True  True  True  True  True\n",
      "  True  True  True]\n"
     ]
    }
   ],
   "source": [
    "# Create a boolean array that identifies elements which are greater than 25\n",
    "boolean_arr = new_multi_array > 25\n",
    "print(boolean_arr)"
   ]
  },
  {
   "cell_type": "code",
   "execution_count": 65,
   "metadata": {},
   "outputs": [
    {
     "name": "stdout",
     "output_type": "stream",
     "text": [
      "[12 15 20 25]\n"
     ]
    }
   ],
   "source": [
    "# Use that boolean array to filter out elements greater than 25 from the original array.\n",
    "fil_arr = new_multi_array[~boolean_arr]\n",
    "print(fil_arr)"
   ]
  }
 ],
 "metadata": {
  "kernelspec": {
   "display_name": "Python 3",
   "language": "python",
   "name": "python3"
  },
  "language_info": {
   "codemirror_mode": {
    "name": "ipython",
    "version": 3
   },
   "file_extension": ".py",
   "mimetype": "text/x-python",
   "name": "python",
   "nbconvert_exporter": "python",
   "pygments_lexer": "ipython3",
   "version": "3.12.0"
  },
  "orig_nbformat": 4,
  "vscode": {
   "interpreter": {
    "hash": "aee8b7b246df8f9039afb4144a1f6fd8d2ca17a180786b69acc140d282b71a49"
   }
  }
 },
 "nbformat": 4,
 "nbformat_minor": 2
}
